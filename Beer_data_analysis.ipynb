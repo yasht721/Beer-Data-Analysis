{
 "cells": [
  {
   "cell_type": "code",
   "execution_count": 2,
   "metadata": {},
   "outputs": [],
   "source": [
    "import pandas as pd\n",
    "import numpy as np\n",
    "import matplotlib.pyplot as plt"
   ]
  },
  {
   "cell_type": "code",
   "execution_count": 3,
   "metadata": {},
   "outputs": [],
   "source": [
    "path = \"C:/Users/yasht/OneDrive/Desktop/Stratascratch/Beer Data Analysis/BeerDataScienceProject.tar.bz2\""
   ]
  },
  {
   "cell_type": "code",
   "execution_count": 4,
   "metadata": {},
   "outputs": [],
   "source": [
    "df = pd.read_csv(path, compression='bz2')"
   ]
  },
  {
   "cell_type": "markdown",
   "metadata": {},
   "source": []
  },
  {
   "cell_type": "code",
   "execution_count": 5,
   "metadata": {},
   "outputs": [
    {
     "data": {
      "text/html": [
       "<div>\n",
       "<style scoped>\n",
       "    .dataframe tbody tr th:only-of-type {\n",
       "        vertical-align: middle;\n",
       "    }\n",
       "\n",
       "    .dataframe tbody tr th {\n",
       "        vertical-align: top;\n",
       "    }\n",
       "\n",
       "    .dataframe thead th {\n",
       "        text-align: right;\n",
       "    }\n",
       "</style>\n",
       "<table border=\"1\" class=\"dataframe\">\n",
       "  <thead>\n",
       "    <tr style=\"text-align: right;\">\n",
       "      <th></th>\n",
       "      <th>beer_ABV</th>\n",
       "      <th>beer_beerId</th>\n",
       "      <th>beer_brewerId</th>\n",
       "      <th>beer_name</th>\n",
       "      <th>beer_style</th>\n",
       "      <th>review_appearance</th>\n",
       "      <th>review_palette</th>\n",
       "      <th>review_overall</th>\n",
       "      <th>review_taste</th>\n",
       "      <th>review_profileName</th>\n",
       "      <th>review_aroma</th>\n",
       "      <th>review_text</th>\n",
       "      <th>review_time</th>\n",
       "    </tr>\n",
       "  </thead>\n",
       "  <tbody>\n",
       "    <tr>\n",
       "      <th>0</th>\n",
       "      <td>5.0</td>\n",
       "      <td>47986</td>\n",
       "      <td>10325</td>\n",
       "      <td>Sausa Weizen</td>\n",
       "      <td>Hefeweizen</td>\n",
       "      <td>2.5</td>\n",
       "      <td>2.0</td>\n",
       "      <td>1.5</td>\n",
       "      <td>1.5</td>\n",
       "      <td>stcules</td>\n",
       "      <td>1.5</td>\n",
       "      <td>A lot of foam. But a lot. In the smell some ba...</td>\n",
       "      <td>1234817823</td>\n",
       "    </tr>\n",
       "    <tr>\n",
       "      <th>1</th>\n",
       "      <td>6.2</td>\n",
       "      <td>48213</td>\n",
       "      <td>10325</td>\n",
       "      <td>Red Moon</td>\n",
       "      <td>English Strong Ale</td>\n",
       "      <td>3.0</td>\n",
       "      <td>2.5</td>\n",
       "      <td>3.0</td>\n",
       "      <td>3.0</td>\n",
       "      <td>stcules</td>\n",
       "      <td>3.0</td>\n",
       "      <td>Dark red color, light beige foam, average. In ...</td>\n",
       "      <td>1235915097</td>\n",
       "    </tr>\n",
       "    <tr>\n",
       "      <th>2</th>\n",
       "      <td>6.5</td>\n",
       "      <td>48215</td>\n",
       "      <td>10325</td>\n",
       "      <td>Black Horse Black Beer</td>\n",
       "      <td>Foreign / Export Stout</td>\n",
       "      <td>3.0</td>\n",
       "      <td>2.5</td>\n",
       "      <td>3.0</td>\n",
       "      <td>3.0</td>\n",
       "      <td>stcules</td>\n",
       "      <td>3.0</td>\n",
       "      <td>Almost totally black. Beige foam, quite compac...</td>\n",
       "      <td>1235916604</td>\n",
       "    </tr>\n",
       "    <tr>\n",
       "      <th>3</th>\n",
       "      <td>5.0</td>\n",
       "      <td>47969</td>\n",
       "      <td>10325</td>\n",
       "      <td>Sausa Pils</td>\n",
       "      <td>German Pilsener</td>\n",
       "      <td>3.5</td>\n",
       "      <td>3.0</td>\n",
       "      <td>3.0</td>\n",
       "      <td>2.5</td>\n",
       "      <td>stcules</td>\n",
       "      <td>3.0</td>\n",
       "      <td>Golden yellow color. White, compact foam, quit...</td>\n",
       "      <td>1234725145</td>\n",
       "    </tr>\n",
       "  </tbody>\n",
       "</table>\n",
       "</div>"
      ],
      "text/plain": [
       "   beer_ABV  beer_beerId  beer_brewerId               beer_name  \\\n",
       "0       5.0        47986          10325            Sausa Weizen   \n",
       "1       6.2        48213          10325                Red Moon   \n",
       "2       6.5        48215          10325  Black Horse Black Beer   \n",
       "3       5.0        47969          10325              Sausa Pils   \n",
       "\n",
       "               beer_style  review_appearance  review_palette  review_overall  \\\n",
       "0              Hefeweizen                2.5             2.0             1.5   \n",
       "1      English Strong Ale                3.0             2.5             3.0   \n",
       "2  Foreign / Export Stout                3.0             2.5             3.0   \n",
       "3         German Pilsener                3.5             3.0             3.0   \n",
       "\n",
       "   review_taste review_profileName  review_aroma  \\\n",
       "0           1.5            stcules           1.5   \n",
       "1           3.0            stcules           3.0   \n",
       "2           3.0            stcules           3.0   \n",
       "3           2.5            stcules           3.0   \n",
       "\n",
       "                                         review_text  review_time  \n",
       "0  A lot of foam. But a lot. In the smell some ba...   1234817823  \n",
       "1  Dark red color, light beige foam, average. In ...   1235915097  \n",
       "2  Almost totally black. Beige foam, quite compac...   1235916604  \n",
       "3  Golden yellow color. White, compact foam, quit...   1234725145  "
      ]
     },
     "execution_count": 5,
     "metadata": {},
     "output_type": "execute_result"
    }
   ],
   "source": [
    "df.head(4)"
   ]
  },
  {
   "cell_type": "code",
   "execution_count": 6,
   "metadata": {},
   "outputs": [
    {
     "data": {
      "text/plain": [
       "(528870, 13)"
      ]
     },
     "execution_count": 6,
     "metadata": {},
     "output_type": "execute_result"
    }
   ],
   "source": [
    "df.shape"
   ]
  },
  {
   "cell_type": "code",
   "execution_count": 7,
   "metadata": {},
   "outputs": [
    {
     "name": "stdout",
     "output_type": "stream",
     "text": [
      "<class 'pandas.core.frame.DataFrame'>\n",
      "RangeIndex: 528870 entries, 0 to 528869\n",
      "Data columns (total 13 columns):\n",
      " #   Column              Non-Null Count   Dtype  \n",
      "---  ------              --------------   -----  \n",
      " 0   beer_ABV            508590 non-null  float64\n",
      " 1   beer_beerId         528870 non-null  int64  \n",
      " 2   beer_brewerId       528870 non-null  int64  \n",
      " 3   beer_name           528870 non-null  object \n",
      " 4   beer_style          528870 non-null  object \n",
      " 5   review_appearance   528870 non-null  float64\n",
      " 6   review_palette      528870 non-null  float64\n",
      " 7   review_overall      528870 non-null  float64\n",
      " 8   review_taste        528870 non-null  float64\n",
      " 9   review_profileName  528755 non-null  object \n",
      " 10  review_aroma        528870 non-null  float64\n",
      " 11  review_text         528751 non-null  object \n",
      " 12  review_time         528870 non-null  int64  \n",
      "dtypes: float64(6), int64(3), object(4)\n",
      "memory usage: 52.5+ MB\n"
     ]
    }
   ],
   "source": [
    "df.info()"
   ]
  },
  {
   "cell_type": "code",
   "execution_count": 8,
   "metadata": {},
   "outputs": [
    {
     "data": {
      "text/html": [
       "<div>\n",
       "<style scoped>\n",
       "    .dataframe tbody tr th:only-of-type {\n",
       "        vertical-align: middle;\n",
       "    }\n",
       "\n",
       "    .dataframe tbody tr th {\n",
       "        vertical-align: top;\n",
       "    }\n",
       "\n",
       "    .dataframe thead th {\n",
       "        text-align: right;\n",
       "    }\n",
       "</style>\n",
       "<table border=\"1\" class=\"dataframe\">\n",
       "  <thead>\n",
       "    <tr style=\"text-align: right;\">\n",
       "      <th></th>\n",
       "      <th>review_appearance</th>\n",
       "      <th>review_palette</th>\n",
       "      <th>review_overall</th>\n",
       "      <th>review_taste</th>\n",
       "      <th>review_aroma</th>\n",
       "    </tr>\n",
       "  </thead>\n",
       "  <tbody>\n",
       "    <tr>\n",
       "      <th>count</th>\n",
       "      <td>528870.000000</td>\n",
       "      <td>528870.000000</td>\n",
       "      <td>528870.000000</td>\n",
       "      <td>528870.000000</td>\n",
       "      <td>528870.000000</td>\n",
       "    </tr>\n",
       "    <tr>\n",
       "      <th>mean</th>\n",
       "      <td>3.864522</td>\n",
       "      <td>3.758926</td>\n",
       "      <td>3.833197</td>\n",
       "      <td>3.765993</td>\n",
       "      <td>3.817350</td>\n",
       "    </tr>\n",
       "    <tr>\n",
       "      <th>std</th>\n",
       "      <td>0.604010</td>\n",
       "      <td>0.685335</td>\n",
       "      <td>0.709962</td>\n",
       "      <td>0.669018</td>\n",
       "      <td>0.718903</td>\n",
       "    </tr>\n",
       "    <tr>\n",
       "      <th>min</th>\n",
       "      <td>0.000000</td>\n",
       "      <td>1.000000</td>\n",
       "      <td>0.000000</td>\n",
       "      <td>1.000000</td>\n",
       "      <td>1.000000</td>\n",
       "    </tr>\n",
       "    <tr>\n",
       "      <th>25%</th>\n",
       "      <td>3.500000</td>\n",
       "      <td>3.500000</td>\n",
       "      <td>3.500000</td>\n",
       "      <td>3.500000</td>\n",
       "      <td>3.500000</td>\n",
       "    </tr>\n",
       "    <tr>\n",
       "      <th>50%</th>\n",
       "      <td>4.000000</td>\n",
       "      <td>4.000000</td>\n",
       "      <td>4.000000</td>\n",
       "      <td>4.000000</td>\n",
       "      <td>4.000000</td>\n",
       "    </tr>\n",
       "    <tr>\n",
       "      <th>75%</th>\n",
       "      <td>4.000000</td>\n",
       "      <td>4.000000</td>\n",
       "      <td>4.500000</td>\n",
       "      <td>4.000000</td>\n",
       "      <td>4.500000</td>\n",
       "    </tr>\n",
       "    <tr>\n",
       "      <th>max</th>\n",
       "      <td>5.000000</td>\n",
       "      <td>5.000000</td>\n",
       "      <td>5.000000</td>\n",
       "      <td>5.000000</td>\n",
       "      <td>5.000000</td>\n",
       "    </tr>\n",
       "  </tbody>\n",
       "</table>\n",
       "</div>"
      ],
      "text/plain": [
       "       review_appearance  review_palette  review_overall   review_taste  \\\n",
       "count      528870.000000   528870.000000   528870.000000  528870.000000   \n",
       "mean            3.864522        3.758926        3.833197       3.765993   \n",
       "std             0.604010        0.685335        0.709962       0.669018   \n",
       "min             0.000000        1.000000        0.000000       1.000000   \n",
       "25%             3.500000        3.500000        3.500000       3.500000   \n",
       "50%             4.000000        4.000000        4.000000       4.000000   \n",
       "75%             4.000000        4.000000        4.500000       4.000000   \n",
       "max             5.000000        5.000000        5.000000       5.000000   \n",
       "\n",
       "        review_aroma  \n",
       "count  528870.000000  \n",
       "mean        3.817350  \n",
       "std         0.718903  \n",
       "min         1.000000  \n",
       "25%         3.500000  \n",
       "50%         4.000000  \n",
       "75%         4.500000  \n",
       "max         5.000000  "
      ]
     },
     "execution_count": 8,
     "metadata": {},
     "output_type": "execute_result"
    }
   ],
   "source": [
    "df[[\"review_appearance\", \"review_palette\", \"review_overall\", \"review_taste\", \"review_aroma\"]].describe()\n"
   ]
  },
  {
   "cell_type": "code",
   "execution_count": 9,
   "metadata": {},
   "outputs": [],
   "source": [
    "df =  df[df[\"review_appearance\"] > 0]\n",
    "df = df[df['review_overall'] > 0]"
   ]
  },
  {
   "cell_type": "code",
   "execution_count": 10,
   "metadata": {},
   "outputs": [
    {
     "data": {
      "text/html": [
       "<div>\n",
       "<style scoped>\n",
       "    .dataframe tbody tr th:only-of-type {\n",
       "        vertical-align: middle;\n",
       "    }\n",
       "\n",
       "    .dataframe tbody tr th {\n",
       "        vertical-align: top;\n",
       "    }\n",
       "\n",
       "    .dataframe thead th {\n",
       "        text-align: right;\n",
       "    }\n",
       "</style>\n",
       "<table border=\"1\" class=\"dataframe\">\n",
       "  <thead>\n",
       "    <tr style=\"text-align: right;\">\n",
       "      <th></th>\n",
       "      <th>review_appearance</th>\n",
       "      <th>review_palette</th>\n",
       "      <th>review_overall</th>\n",
       "      <th>review_taste</th>\n",
       "      <th>review_aroma</th>\n",
       "    </tr>\n",
       "  </thead>\n",
       "  <tbody>\n",
       "    <tr>\n",
       "      <th>count</th>\n",
       "      <td>528867.000000</td>\n",
       "      <td>528867.000000</td>\n",
       "      <td>528867.000000</td>\n",
       "      <td>528867.000000</td>\n",
       "      <td>528867.000000</td>\n",
       "    </tr>\n",
       "    <tr>\n",
       "      <th>mean</th>\n",
       "      <td>3.864544</td>\n",
       "      <td>3.758930</td>\n",
       "      <td>3.833219</td>\n",
       "      <td>3.766001</td>\n",
       "      <td>3.817361</td>\n",
       "    </tr>\n",
       "    <tr>\n",
       "      <th>std</th>\n",
       "      <td>0.603942</td>\n",
       "      <td>0.685332</td>\n",
       "      <td>0.709905</td>\n",
       "      <td>0.669010</td>\n",
       "      <td>0.718892</td>\n",
       "    </tr>\n",
       "    <tr>\n",
       "      <th>min</th>\n",
       "      <td>1.000000</td>\n",
       "      <td>1.000000</td>\n",
       "      <td>1.000000</td>\n",
       "      <td>1.000000</td>\n",
       "      <td>1.000000</td>\n",
       "    </tr>\n",
       "    <tr>\n",
       "      <th>25%</th>\n",
       "      <td>3.500000</td>\n",
       "      <td>3.500000</td>\n",
       "      <td>3.500000</td>\n",
       "      <td>3.500000</td>\n",
       "      <td>3.500000</td>\n",
       "    </tr>\n",
       "    <tr>\n",
       "      <th>50%</th>\n",
       "      <td>4.000000</td>\n",
       "      <td>4.000000</td>\n",
       "      <td>4.000000</td>\n",
       "      <td>4.000000</td>\n",
       "      <td>4.000000</td>\n",
       "    </tr>\n",
       "    <tr>\n",
       "      <th>75%</th>\n",
       "      <td>4.000000</td>\n",
       "      <td>4.000000</td>\n",
       "      <td>4.500000</td>\n",
       "      <td>4.000000</td>\n",
       "      <td>4.500000</td>\n",
       "    </tr>\n",
       "    <tr>\n",
       "      <th>max</th>\n",
       "      <td>5.000000</td>\n",
       "      <td>5.000000</td>\n",
       "      <td>5.000000</td>\n",
       "      <td>5.000000</td>\n",
       "      <td>5.000000</td>\n",
       "    </tr>\n",
       "  </tbody>\n",
       "</table>\n",
       "</div>"
      ],
      "text/plain": [
       "       review_appearance  review_palette  review_overall   review_taste  \\\n",
       "count      528867.000000   528867.000000   528867.000000  528867.000000   \n",
       "mean            3.864544        3.758930        3.833219       3.766001   \n",
       "std             0.603942        0.685332        0.709905       0.669010   \n",
       "min             1.000000        1.000000        1.000000       1.000000   \n",
       "25%             3.500000        3.500000        3.500000       3.500000   \n",
       "50%             4.000000        4.000000        4.000000       4.000000   \n",
       "75%             4.000000        4.000000        4.500000       4.000000   \n",
       "max             5.000000        5.000000        5.000000       5.000000   \n",
       "\n",
       "        review_aroma  \n",
       "count  528867.000000  \n",
       "mean        3.817361  \n",
       "std         0.718892  \n",
       "min         1.000000  \n",
       "25%         3.500000  \n",
       "50%         4.000000  \n",
       "75%         4.500000  \n",
       "max         5.000000  "
      ]
     },
     "execution_count": 10,
     "metadata": {},
     "output_type": "execute_result"
    }
   ],
   "source": [
    "df[[\"review_appearance\", \"review_palette\", \"review_overall\", \"review_taste\", \"review_aroma\"]].describe()\n"
   ]
  },
  {
   "cell_type": "code",
   "execution_count": 11,
   "metadata": {},
   "outputs": [
    {
     "name": "stdout",
     "output_type": "stream",
     "text": [
      "<class 'pandas.core.frame.DataFrame'>\n",
      "Int64Index: 528867 entries, 0 to 528869\n",
      "Data columns (total 13 columns):\n",
      " #   Column              Non-Null Count   Dtype  \n",
      "---  ------              --------------   -----  \n",
      " 0   beer_ABV            508587 non-null  float64\n",
      " 1   beer_beerId         528867 non-null  int64  \n",
      " 2   beer_brewerId       528867 non-null  int64  \n",
      " 3   beer_name           528867 non-null  object \n",
      " 4   beer_style          528867 non-null  object \n",
      " 5   review_appearance   528867 non-null  float64\n",
      " 6   review_palette      528867 non-null  float64\n",
      " 7   review_overall      528867 non-null  float64\n",
      " 8   review_taste        528867 non-null  float64\n",
      " 9   review_profileName  528752 non-null  object \n",
      " 10  review_aroma        528867 non-null  float64\n",
      " 11  review_text         528748 non-null  object \n",
      " 12  review_time         528867 non-null  int64  \n",
      "dtypes: float64(6), int64(3), object(4)\n",
      "memory usage: 56.5+ MB\n"
     ]
    }
   ],
   "source": [
    "df.info()"
   ]
  },
  {
   "cell_type": "code",
   "execution_count": 12,
   "metadata": {},
   "outputs": [],
   "source": [
    "df = df.dropna()"
   ]
  },
  {
   "cell_type": "code",
   "execution_count": 13,
   "metadata": {},
   "outputs": [
    {
     "data": {
      "text/plain": [
       "(508355, 13)"
      ]
     },
     "execution_count": 13,
     "metadata": {},
     "output_type": "execute_result"
    }
   ],
   "source": [
    "df.shape"
   ]
  },
  {
   "cell_type": "code",
   "execution_count": 14,
   "metadata": {},
   "outputs": [],
   "source": [
    "df = df.sort_values(by = 'review_overall', ascending= False).drop_duplicates(subset=['review_profileName','beer_beerId'], keep= 'first')"
   ]
  },
  {
   "cell_type": "code",
   "execution_count": 15,
   "metadata": {},
   "outputs": [
    {
     "data": {
      "text/plain": [
       "(503697, 13)"
      ]
     },
     "execution_count": 15,
     "metadata": {},
     "output_type": "execute_result"
    }
   ],
   "source": [
    "df.shape"
   ]
  },
  {
   "cell_type": "markdown",
   "metadata": {},
   "source": [
    "Rank the top 3 breweries which produce the strongest beers.\n"
   ]
  },
  {
   "cell_type": "code",
   "execution_count": 16,
   "metadata": {},
   "outputs": [],
   "source": [
    "df_1 = df.groupby(by = [\"beer_brewerId\"])['beer_ABV'].mean().reset_index().sort_values(by='beer_ABV', ascending= False)"
   ]
  },
  {
   "cell_type": "code",
   "execution_count": 17,
   "metadata": {},
   "outputs": [],
   "source": [
    "df_1['rank'] = df_1['beer_ABV'].rank(method='dense', ascending= False)"
   ]
  },
  {
   "cell_type": "code",
   "execution_count": 18,
   "metadata": {},
   "outputs": [],
   "source": [
    "df_1a = df_1.query('rank < 4')"
   ]
  },
  {
   "cell_type": "code",
   "execution_count": 19,
   "metadata": {},
   "outputs": [
    {
     "name": "stderr",
     "output_type": "stream",
     "text": [
      "C:\\Users\\yasht\\AppData\\Local\\Temp/ipykernel_13188/1341577293.py:1: SettingWithCopyWarning: \n",
      "A value is trying to be set on a copy of a slice from a DataFrame.\n",
      "Try using .loc[row_indexer,col_indexer] = value instead\n",
      "\n",
      "See the caveats in the documentation: https://pandas.pydata.org/pandas-docs/stable/user_guide/indexing.html#returning-a-view-versus-a-copy\n",
      "  df_1a['beer_brewerId'] = str(df_1a['beer_brewerId'])\n"
     ]
    }
   ],
   "source": [
    "df_1a['beer_brewerId'] = str(df_1a['beer_brewerId'])"
   ]
  },
  {
   "cell_type": "code",
   "execution_count": 20,
   "metadata": {},
   "outputs": [],
   "source": [
    "df_1a.dtypes\n",
    "\n",
    "col = df_1a['beer_brewerId']\n",
    "row = df_1a['beer_ABV']"
   ]
  },
  {
   "cell_type": "code",
   "execution_count": 21,
   "metadata": {},
   "outputs": [
    {
     "data": {
      "text/html": [
       "<div>\n",
       "<style scoped>\n",
       "    .dataframe tbody tr th:only-of-type {\n",
       "        vertical-align: middle;\n",
       "    }\n",
       "\n",
       "    .dataframe tbody tr th {\n",
       "        vertical-align: top;\n",
       "    }\n",
       "\n",
       "    .dataframe thead th {\n",
       "        text-align: right;\n",
       "    }\n",
       "</style>\n",
       "<table border=\"1\" class=\"dataframe\">\n",
       "  <thead>\n",
       "    <tr style=\"text-align: right;\">\n",
       "      <th></th>\n",
       "      <th>beer_brewerId</th>\n",
       "      <th>beer_ABV</th>\n",
       "      <th>rank</th>\n",
       "    </tr>\n",
       "  </thead>\n",
       "  <tbody>\n",
       "    <tr>\n",
       "      <th>699</th>\n",
       "      <td>6513</td>\n",
       "      <td>19.228824</td>\n",
       "      <td>1.0</td>\n",
       "    </tr>\n",
       "    <tr>\n",
       "      <th>165</th>\n",
       "      <td>736</td>\n",
       "      <td>13.750000</td>\n",
       "      <td>2.0</td>\n",
       "    </tr>\n",
       "    <tr>\n",
       "      <th>1466</th>\n",
       "      <td>24215</td>\n",
       "      <td>12.466667</td>\n",
       "      <td>3.0</td>\n",
       "    </tr>\n",
       "  </tbody>\n",
       "</table>\n",
       "</div>"
      ],
      "text/plain": [
       "      beer_brewerId   beer_ABV  rank\n",
       "699            6513  19.228824   1.0\n",
       "165             736  13.750000   2.0\n",
       "1466          24215  12.466667   3.0"
      ]
     },
     "execution_count": 21,
     "metadata": {},
     "output_type": "execute_result"
    }
   ],
   "source": [
    "df_1[df_1['rank'] <= 3]"
   ]
  },
  {
   "cell_type": "code",
   "execution_count": 22,
   "metadata": {},
   "outputs": [],
   "source": [
    "df_1 = df_1[df_1['rank'] <=  3 ]"
   ]
  },
  {
   "cell_type": "code",
   "execution_count": 23,
   "metadata": {},
   "outputs": [],
   "source": [
    "df_1['beer_brewerId'] = df_1['beer_brewerId'].astype(str)"
   ]
  },
  {
   "cell_type": "code",
   "execution_count": 24,
   "metadata": {},
   "outputs": [
    {
     "data": {
      "image/png": "[encoded data removed]",
      "text/plain": [
       "<Figure size 432x288 with 1 Axes>"
      ]
     },
     "metadata": {
      "needs_background": "light"
     },
     "output_type": "display_data"
    }
   ],
   "source": [
    "plt.bar(df_1['beer_brewerId'], df_1['beer_ABV'])\n",
    "plt.xlabel('Beer Brewer ID')\n",
    "plt.ylabel('Rank')\n",
    "plt.title('Beer Rankings')\n",
    "plt.show()\n"
   ]
  },
  {
   "cell_type": "markdown",
   "metadata": {},
   "source": [
    "Which year did beers enjoy the highest ratings?\n"
   ]
  },
  {
   "cell_type": "code",
   "execution_count": 25,
   "metadata": {},
   "outputs": [],
   "source": [
    "df_2 = df"
   ]
  },
  {
   "cell_type": "code",
   "execution_count": 26,
   "metadata": {},
   "outputs": [
    {
     "data": {
      "text/html": [
       "<div>\n",
       "<style scoped>\n",
       "    .dataframe tbody tr th:only-of-type {\n",
       "        vertical-align: middle;\n",
       "    }\n",
       "\n",
       "    .dataframe tbody tr th {\n",
       "        vertical-align: top;\n",
       "    }\n",
       "\n",
       "    .dataframe thead th {\n",
       "        text-align: right;\n",
       "    }\n",
       "</style>\n",
       "<table border=\"1\" class=\"dataframe\">\n",
       "  <thead>\n",
       "    <tr style=\"text-align: right;\">\n",
       "      <th></th>\n",
       "      <th>beer_ABV</th>\n",
       "      <th>beer_beerId</th>\n",
       "      <th>beer_brewerId</th>\n",
       "      <th>beer_name</th>\n",
       "      <th>beer_style</th>\n",
       "      <th>review_appearance</th>\n",
       "      <th>review_palette</th>\n",
       "      <th>review_overall</th>\n",
       "      <th>review_taste</th>\n",
       "      <th>review_profileName</th>\n",
       "      <th>review_aroma</th>\n",
       "      <th>review_text</th>\n",
       "      <th>review_time</th>\n",
       "    </tr>\n",
       "  </thead>\n",
       "  <tbody>\n",
       "    <tr>\n",
       "      <th>152866</th>\n",
       "      <td>9.5</td>\n",
       "      <td>28577</td>\n",
       "      <td>3818</td>\n",
       "      <td>Unearthly (Imperial India Pale Ale)</td>\n",
       "      <td>American Double / Imperial IPA</td>\n",
       "      <td>4.5</td>\n",
       "      <td>4.0</td>\n",
       "      <td>5.0</td>\n",
       "      <td>4.5</td>\n",
       "      <td>ken2cart1</td>\n",
       "      <td>4.0</td>\n",
       "      <td>22 oz bomber served in my 8 ounce flute glass ...</td>\n",
       "      <td>1243562965</td>\n",
       "    </tr>\n",
       "    <tr>\n",
       "      <th>370806</th>\n",
       "      <td>10.0</td>\n",
       "      <td>28385</td>\n",
       "      <td>22</td>\n",
       "      <td>Unibroue 15</td>\n",
       "      <td>Belgian Strong Pale Ale</td>\n",
       "      <td>4.0</td>\n",
       "      <td>4.0</td>\n",
       "      <td>5.0</td>\n",
       "      <td>4.5</td>\n",
       "      <td>Gehrig</td>\n",
       "      <td>4.5</td>\n",
       "      <td>I grabbed this at the terrific Neil St. Piccad...</td>\n",
       "      <td>1206337414</td>\n",
       "    </tr>\n",
       "  </tbody>\n",
       "</table>\n",
       "</div>"
      ],
      "text/plain": [
       "        beer_ABV  beer_beerId  beer_brewerId  \\\n",
       "152866       9.5        28577           3818   \n",
       "370806      10.0        28385             22   \n",
       "\n",
       "                                  beer_name                      beer_style  \\\n",
       "152866  Unearthly (Imperial India Pale Ale)  American Double / Imperial IPA   \n",
       "370806                          Unibroue 15         Belgian Strong Pale Ale   \n",
       "\n",
       "        review_appearance  review_palette  review_overall  review_taste  \\\n",
       "152866                4.5             4.0             5.0           4.5   \n",
       "370806                4.0             4.0             5.0           4.5   \n",
       "\n",
       "       review_profileName  review_aroma  \\\n",
       "152866          ken2cart1           4.0   \n",
       "370806             Gehrig           4.5   \n",
       "\n",
       "                                              review_text  review_time  \n",
       "152866  22 oz bomber served in my 8 ounce flute glass ...   1243562965  \n",
       "370806  I grabbed this at the terrific Neil St. Piccad...   1206337414  "
      ]
     },
     "execution_count": 26,
     "metadata": {},
     "output_type": "execute_result"
    }
   ],
   "source": [
    "df_2.head(2)"
   ]
  },
  {
   "cell_type": "code",
   "execution_count": 27,
   "metadata": {},
   "outputs": [],
   "source": [
    "df_2['review_year'] = pd.to_datetime(df_2['review_time'], unit= 's').dt.year"
   ]
  },
  {
   "cell_type": "code",
   "execution_count": 28,
   "metadata": {},
   "outputs": [],
   "source": [
    "review_year = df_2.groupby(by = 'review_year').size().to_frame('reviews_per_year').reset_index()"
   ]
  },
  {
   "cell_type": "code",
   "execution_count": 29,
   "metadata": {},
   "outputs": [],
   "source": [
    "reviw_all = df_2.groupby(by = 'review_year')['review_overall'].mean().reset_index().sort_values(by = 'review_overall', ascending= False)"
   ]
  },
  {
   "cell_type": "code",
   "execution_count": 30,
   "metadata": {},
   "outputs": [],
   "source": [
    "review_year = review_year.merge(right=reviw_all, how = 'inner', on = 'review_year')"
   ]
  },
  {
   "cell_type": "code",
   "execution_count": 31,
   "metadata": {},
   "outputs": [
    {
     "data": {
      "text/html": [
       "<div>\n",
       "<style scoped>\n",
       "    .dataframe tbody tr th:only-of-type {\n",
       "        vertical-align: middle;\n",
       "    }\n",
       "\n",
       "    .dataframe tbody tr th {\n",
       "        vertical-align: top;\n",
       "    }\n",
       "\n",
       "    .dataframe thead th {\n",
       "        text-align: right;\n",
       "    }\n",
       "</style>\n",
       "<table border=\"1\" class=\"dataframe\">\n",
       "  <thead>\n",
       "    <tr style=\"text-align: right;\">\n",
       "      <th></th>\n",
       "      <th>review_year</th>\n",
       "      <th>reviews_per_year</th>\n",
       "      <th>review_overall</th>\n",
       "    </tr>\n",
       "  </thead>\n",
       "  <tbody>\n",
       "    <tr>\n",
       "      <th>0</th>\n",
       "      <td>1998</td>\n",
       "      <td>11</td>\n",
       "      <td>4.045455</td>\n",
       "    </tr>\n",
       "    <tr>\n",
       "      <th>1</th>\n",
       "      <td>1999</td>\n",
       "      <td>10</td>\n",
       "      <td>4.000000</td>\n",
       "    </tr>\n",
       "    <tr>\n",
       "      <th>2</th>\n",
       "      <td>2000</td>\n",
       "      <td>29</td>\n",
       "      <td>4.241379</td>\n",
       "    </tr>\n",
       "    <tr>\n",
       "      <th>3</th>\n",
       "      <td>2001</td>\n",
       "      <td>534</td>\n",
       "      <td>3.970037</td>\n",
       "    </tr>\n",
       "    <tr>\n",
       "      <th>4</th>\n",
       "      <td>2002</td>\n",
       "      <td>6725</td>\n",
       "      <td>3.822156</td>\n",
       "    </tr>\n",
       "    <tr>\n",
       "      <th>5</th>\n",
       "      <td>2003</td>\n",
       "      <td>16304</td>\n",
       "      <td>3.775025</td>\n",
       "    </tr>\n",
       "    <tr>\n",
       "      <th>6</th>\n",
       "      <td>2004</td>\n",
       "      <td>21038</td>\n",
       "      <td>3.806850</td>\n",
       "    </tr>\n",
       "    <tr>\n",
       "      <th>7</th>\n",
       "      <td>2005</td>\n",
       "      <td>27503</td>\n",
       "      <td>3.845799</td>\n",
       "    </tr>\n",
       "    <tr>\n",
       "      <th>8</th>\n",
       "      <td>2006</td>\n",
       "      <td>40366</td>\n",
       "      <td>3.809580</td>\n",
       "    </tr>\n",
       "    <tr>\n",
       "      <th>9</th>\n",
       "      <td>2007</td>\n",
       "      <td>44073</td>\n",
       "      <td>3.819697</td>\n",
       "    </tr>\n",
       "    <tr>\n",
       "      <th>10</th>\n",
       "      <td>2008</td>\n",
       "      <td>65931</td>\n",
       "      <td>3.840599</td>\n",
       "    </tr>\n",
       "    <tr>\n",
       "      <th>11</th>\n",
       "      <td>2009</td>\n",
       "      <td>80456</td>\n",
       "      <td>3.868500</td>\n",
       "    </tr>\n",
       "    <tr>\n",
       "      <th>12</th>\n",
       "      <td>2010</td>\n",
       "      <td>90496</td>\n",
       "      <td>3.869679</td>\n",
       "    </tr>\n",
       "    <tr>\n",
       "      <th>13</th>\n",
       "      <td>2011</td>\n",
       "      <td>107164</td>\n",
       "      <td>3.833494</td>\n",
       "    </tr>\n",
       "    <tr>\n",
       "      <th>14</th>\n",
       "      <td>2012</td>\n",
       "      <td>3057</td>\n",
       "      <td>3.839058</td>\n",
       "    </tr>\n",
       "  </tbody>\n",
       "</table>\n",
       "</div>"
      ],
      "text/plain": [
       "    review_year  reviews_per_year  review_overall\n",
       "0          1998                11        4.045455\n",
       "1          1999                10        4.000000\n",
       "2          2000                29        4.241379\n",
       "3          2001               534        3.970037\n",
       "4          2002              6725        3.822156\n",
       "5          2003             16304        3.775025\n",
       "6          2004             21038        3.806850\n",
       "7          2005             27503        3.845799\n",
       "8          2006             40366        3.809580\n",
       "9          2007             44073        3.819697\n",
       "10         2008             65931        3.840599\n",
       "11         2009             80456        3.868500\n",
       "12         2010             90496        3.869679\n",
       "13         2011            107164        3.833494\n",
       "14         2012              3057        3.839058"
      ]
     },
     "execution_count": 31,
     "metadata": {},
     "output_type": "execute_result"
    }
   ],
   "source": [
    "review_year"
   ]
  },
  {
   "cell_type": "code",
   "execution_count": 32,
   "metadata": {},
   "outputs": [
    {
     "data": {
      "image/png": "[encoded data removed]",
      "text/plain": [
       "<Figure size 936x576 with 2 Axes>"
      ]
     },
     "metadata": {
      "needs_background": "light"
     },
     "output_type": "display_data"
    }
   ],
   "source": [
    "figure = plt.figure(figsize=(13,8))\n",
    "ax1 = figure.add_subplot(111)\n",
    "ax2 = ax1.twinx()\n",
    "review_year.plot(x = \"review_year\", y = \"review_overall\",  kind= \"bar\", color = \"blue\", ax= ax1,  width = 0.25, position= 0)\n",
    "review_year.plot(x = \"review_year\", y = \"reviews_per_year\",  kind= \"bar\", color = \"red\", ax= ax2, width = 0.25, position= 1)\n",
    "plt.legend(loc=\"upper left\")\n",
    "plt.show()"
   ]
  },
  {
   "cell_type": "markdown",
   "metadata": {},
   "source": [
    "Based on the users' ratings, which factors are important among taste, aroma, appearance, and palette?\n"
   ]
  },
  {
   "cell_type": "code",
   "execution_count": 33,
   "metadata": {},
   "outputs": [],
   "source": [
    "df_3 = df"
   ]
  },
  {
   "cell_type": "code",
   "execution_count": 34,
   "metadata": {},
   "outputs": [
    {
     "data": {
      "text/html": [
       "<div>\n",
       "<style scoped>\n",
       "    .dataframe tbody tr th:only-of-type {\n",
       "        vertical-align: middle;\n",
       "    }\n",
       "\n",
       "    .dataframe tbody tr th {\n",
       "        vertical-align: top;\n",
       "    }\n",
       "\n",
       "    .dataframe thead th {\n",
       "        text-align: right;\n",
       "    }\n",
       "</style>\n",
       "<table border=\"1\" class=\"dataframe\">\n",
       "  <thead>\n",
       "    <tr style=\"text-align: right;\">\n",
       "      <th></th>\n",
       "      <th>beer_ABV</th>\n",
       "      <th>beer_beerId</th>\n",
       "      <th>beer_brewerId</th>\n",
       "      <th>beer_name</th>\n",
       "      <th>beer_style</th>\n",
       "      <th>review_appearance</th>\n",
       "      <th>review_palette</th>\n",
       "      <th>review_overall</th>\n",
       "      <th>review_taste</th>\n",
       "      <th>review_profileName</th>\n",
       "      <th>review_aroma</th>\n",
       "      <th>review_text</th>\n",
       "      <th>review_time</th>\n",
       "      <th>review_year</th>\n",
       "    </tr>\n",
       "  </thead>\n",
       "  <tbody>\n",
       "    <tr>\n",
       "      <th>152866</th>\n",
       "      <td>9.5</td>\n",
       "      <td>28577</td>\n",
       "      <td>3818</td>\n",
       "      <td>Unearthly (Imperial India Pale Ale)</td>\n",
       "      <td>American Double / Imperial IPA</td>\n",
       "      <td>4.5</td>\n",
       "      <td>4.0</td>\n",
       "      <td>5.0</td>\n",
       "      <td>4.5</td>\n",
       "      <td>ken2cart1</td>\n",
       "      <td>4.0</td>\n",
       "      <td>22 oz bomber served in my 8 ounce flute glass ...</td>\n",
       "      <td>1243562965</td>\n",
       "      <td>2009</td>\n",
       "    </tr>\n",
       "    <tr>\n",
       "      <th>370806</th>\n",
       "      <td>10.0</td>\n",
       "      <td>28385</td>\n",
       "      <td>22</td>\n",
       "      <td>Unibroue 15</td>\n",
       "      <td>Belgian Strong Pale Ale</td>\n",
       "      <td>4.0</td>\n",
       "      <td>4.0</td>\n",
       "      <td>5.0</td>\n",
       "      <td>4.5</td>\n",
       "      <td>Gehrig</td>\n",
       "      <td>4.5</td>\n",
       "      <td>I grabbed this at the terrific Neil St. Piccad...</td>\n",
       "      <td>1206337414</td>\n",
       "      <td>2008</td>\n",
       "    </tr>\n",
       "  </tbody>\n",
       "</table>\n",
       "</div>"
      ],
      "text/plain": [
       "        beer_ABV  beer_beerId  beer_brewerId  \\\n",
       "152866       9.5        28577           3818   \n",
       "370806      10.0        28385             22   \n",
       "\n",
       "                                  beer_name                      beer_style  \\\n",
       "152866  Unearthly (Imperial India Pale Ale)  American Double / Imperial IPA   \n",
       "370806                          Unibroue 15         Belgian Strong Pale Ale   \n",
       "\n",
       "        review_appearance  review_palette  review_overall  review_taste  \\\n",
       "152866                4.5             4.0             5.0           4.5   \n",
       "370806                4.0             4.0             5.0           4.5   \n",
       "\n",
       "       review_profileName  review_aroma  \\\n",
       "152866          ken2cart1           4.0   \n",
       "370806             Gehrig           4.5   \n",
       "\n",
       "                                              review_text  review_time  \\\n",
       "152866  22 oz bomber served in my 8 ounce flute glass ...   1243562965   \n",
       "370806  I grabbed this at the terrific Neil St. Piccad...   1206337414   \n",
       "\n",
       "        review_year  \n",
       "152866         2009  \n",
       "370806         2008  "
      ]
     },
     "execution_count": 34,
     "metadata": {},
     "output_type": "execute_result"
    }
   ],
   "source": [
    "df_3.head(2)"
   ]
  },
  {
   "cell_type": "code",
   "execution_count": 35,
   "metadata": {},
   "outputs": [],
   "source": [
    "df_3a = df_3.groupby(by = 'beer_beerId')[[\n",
    "    \"review_taste\",\n",
    "    \"review_appearance\",\n",
    "    \"review_palette\",\n",
    "    \"review_aroma\",\n",
    "    \"review_overall\"\n",
    "]].mean()"
   ]
  },
  {
   "cell_type": "code",
   "execution_count": 36,
   "metadata": {},
   "outputs": [
    {
     "data": {
      "text/html": [
       "<div>\n",
       "<style scoped>\n",
       "    .dataframe tbody tr th:only-of-type {\n",
       "        vertical-align: middle;\n",
       "    }\n",
       "\n",
       "    .dataframe tbody tr th {\n",
       "        vertical-align: top;\n",
       "    }\n",
       "\n",
       "    .dataframe thead th {\n",
       "        text-align: right;\n",
       "    }\n",
       "</style>\n",
       "<table border=\"1\" class=\"dataframe\">\n",
       "  <thead>\n",
       "    <tr style=\"text-align: right;\">\n",
       "      <th></th>\n",
       "      <th>review_taste</th>\n",
       "      <th>review_appearance</th>\n",
       "      <th>review_palette</th>\n",
       "      <th>review_aroma</th>\n",
       "      <th>review_overall</th>\n",
       "    </tr>\n",
       "  </thead>\n",
       "  <tbody>\n",
       "    <tr>\n",
       "      <th>review_taste</th>\n",
       "      <td>1.000000</td>\n",
       "      <td>0.682127</td>\n",
       "      <td>0.756303</td>\n",
       "      <td>0.835088</td>\n",
       "      <td>0.823181</td>\n",
       "    </tr>\n",
       "    <tr>\n",
       "      <th>review_appearance</th>\n",
       "      <td>0.682127</td>\n",
       "      <td>1.000000</td>\n",
       "      <td>0.669148</td>\n",
       "      <td>0.660223</td>\n",
       "      <td>0.637575</td>\n",
       "    </tr>\n",
       "    <tr>\n",
       "      <th>review_palette</th>\n",
       "      <td>0.756303</td>\n",
       "      <td>0.669148</td>\n",
       "      <td>1.000000</td>\n",
       "      <td>0.825980</td>\n",
       "      <td>0.766908</td>\n",
       "    </tr>\n",
       "    <tr>\n",
       "      <th>review_aroma</th>\n",
       "      <td>0.835088</td>\n",
       "      <td>0.660223</td>\n",
       "      <td>0.825980</td>\n",
       "      <td>1.000000</td>\n",
       "      <td>0.883871</td>\n",
       "    </tr>\n",
       "    <tr>\n",
       "      <th>review_overall</th>\n",
       "      <td>0.823181</td>\n",
       "      <td>0.637575</td>\n",
       "      <td>0.766908</td>\n",
       "      <td>0.883871</td>\n",
       "      <td>1.000000</td>\n",
       "    </tr>\n",
       "  </tbody>\n",
       "</table>\n",
       "</div>"
      ],
      "text/plain": [
       "                   review_taste  review_appearance  review_palette  \\\n",
       "review_taste           1.000000           0.682127        0.756303   \n",
       "review_appearance      0.682127           1.000000        0.669148   \n",
       "review_palette         0.756303           0.669148        1.000000   \n",
       "review_aroma           0.835088           0.660223        0.825980   \n",
       "review_overall         0.823181           0.637575        0.766908   \n",
       "\n",
       "                   review_aroma  review_overall  \n",
       "review_taste           0.835088        0.823181  \n",
       "review_appearance      0.660223        0.637575  \n",
       "review_palette         0.825980        0.766908  \n",
       "review_aroma           1.000000        0.883871  \n",
       "review_overall         0.883871        1.000000  "
      ]
     },
     "execution_count": 36,
     "metadata": {},
     "output_type": "execute_result"
    }
   ],
   "source": [
    "df_3a.corr()"
   ]
  },
  {
   "cell_type": "code",
   "execution_count": 37,
   "metadata": {},
   "outputs": [],
   "source": [
    "from seaborn import heatmap\n"
   ]
  },
  {
   "cell_type": "code",
   "execution_count": 38,
   "metadata": {},
   "outputs": [
    {
     "data": {
      "image/png": "[encoded data removed]",
      "text/plain": [
       "<Figure size 432x288 with 2 Axes>"
      ]
     },
     "metadata": {
      "needs_background": "light"
     },
     "output_type": "display_data"
    }
   ],
   "source": [
    "_ = heatmap(data=df_3a.corr(), annot=True)\n"
   ]
  },
  {
   "cell_type": "markdown",
   "metadata": {},
   "source": [
    "If you were to recommend 3 beers to your friends based on this data, which ones would you recommend?\n"
   ]
  },
  {
   "cell_type": "code",
   "execution_count": 39,
   "metadata": {},
   "outputs": [],
   "source": [
    "df_4 = df"
   ]
  },
  {
   "cell_type": "code",
   "execution_count": 40,
   "metadata": {},
   "outputs": [
    {
     "data": {
      "text/html": [
       "<div>\n",
       "<style scoped>\n",
       "    .dataframe tbody tr th:only-of-type {\n",
       "        vertical-align: middle;\n",
       "    }\n",
       "\n",
       "    .dataframe tbody tr th {\n",
       "        vertical-align: top;\n",
       "    }\n",
       "\n",
       "    .dataframe thead th {\n",
       "        text-align: right;\n",
       "    }\n",
       "</style>\n",
       "<table border=\"1\" class=\"dataframe\">\n",
       "  <thead>\n",
       "    <tr style=\"text-align: right;\">\n",
       "      <th></th>\n",
       "      <th>beer_ABV</th>\n",
       "      <th>beer_beerId</th>\n",
       "      <th>beer_brewerId</th>\n",
       "      <th>beer_name</th>\n",
       "      <th>beer_style</th>\n",
       "      <th>review_appearance</th>\n",
       "      <th>review_palette</th>\n",
       "      <th>review_overall</th>\n",
       "      <th>review_taste</th>\n",
       "      <th>review_profileName</th>\n",
       "      <th>review_aroma</th>\n",
       "      <th>review_text</th>\n",
       "      <th>review_time</th>\n",
       "      <th>review_year</th>\n",
       "    </tr>\n",
       "  </thead>\n",
       "  <tbody>\n",
       "    <tr>\n",
       "      <th>152866</th>\n",
       "      <td>9.5</td>\n",
       "      <td>28577</td>\n",
       "      <td>3818</td>\n",
       "      <td>Unearthly (Imperial India Pale Ale)</td>\n",
       "      <td>American Double / Imperial IPA</td>\n",
       "      <td>4.5</td>\n",
       "      <td>4.0</td>\n",
       "      <td>5.0</td>\n",
       "      <td>4.5</td>\n",
       "      <td>ken2cart1</td>\n",
       "      <td>4.0</td>\n",
       "      <td>22 oz bomber served in my 8 ounce flute glass ...</td>\n",
       "      <td>1243562965</td>\n",
       "      <td>2009</td>\n",
       "    </tr>\n",
       "    <tr>\n",
       "      <th>370806</th>\n",
       "      <td>10.0</td>\n",
       "      <td>28385</td>\n",
       "      <td>22</td>\n",
       "      <td>Unibroue 15</td>\n",
       "      <td>Belgian Strong Pale Ale</td>\n",
       "      <td>4.0</td>\n",
       "      <td>4.0</td>\n",
       "      <td>5.0</td>\n",
       "      <td>4.5</td>\n",
       "      <td>Gehrig</td>\n",
       "      <td>4.5</td>\n",
       "      <td>I grabbed this at the terrific Neil St. Piccad...</td>\n",
       "      <td>1206337414</td>\n",
       "      <td>2008</td>\n",
       "    </tr>\n",
       "  </tbody>\n",
       "</table>\n",
       "</div>"
      ],
      "text/plain": [
       "        beer_ABV  beer_beerId  beer_brewerId  \\\n",
       "152866       9.5        28577           3818   \n",
       "370806      10.0        28385             22   \n",
       "\n",
       "                                  beer_name                      beer_style  \\\n",
       "152866  Unearthly (Imperial India Pale Ale)  American Double / Imperial IPA   \n",
       "370806                          Unibroue 15         Belgian Strong Pale Ale   \n",
       "\n",
       "        review_appearance  review_palette  review_overall  review_taste  \\\n",
       "152866                4.5             4.0             5.0           4.5   \n",
       "370806                4.0             4.0             5.0           4.5   \n",
       "\n",
       "       review_profileName  review_aroma  \\\n",
       "152866          ken2cart1           4.0   \n",
       "370806             Gehrig           4.5   \n",
       "\n",
       "                                              review_text  review_time  \\\n",
       "152866  22 oz bomber served in my 8 ounce flute glass ...   1243562965   \n",
       "370806  I grabbed this at the terrific Neil St. Piccad...   1206337414   \n",
       "\n",
       "        review_year  \n",
       "152866         2009  \n",
       "370806         2008  "
      ]
     },
     "execution_count": 40,
     "metadata": {},
     "output_type": "execute_result"
    }
   ],
   "source": [
    "df_4.head(2)"
   ]
  },
  {
   "cell_type": "code",
   "execution_count": 41,
   "metadata": {},
   "outputs": [],
   "source": [
    "df_4a = df_4.groupby(by = 'beer_beerId')['review_overall'].agg(['count', 'mean'])\n",
    "\n",
    "df_4a = df_4a.rename(columns={\n",
    "        'count' : 'num_review',\n",
    "        'mean' : 'mean_overall_review'\n",
    "})"
   ]
  },
  {
   "cell_type": "code",
   "execution_count": 42,
   "metadata": {},
   "outputs": [],
   "source": [
    "df_4a.sort_values(by = 'mean_overall_review', ascending= False, inplace= True)"
   ]
  },
  {
   "cell_type": "code",
   "execution_count": 43,
   "metadata": {},
   "outputs": [
    {
     "data": {
      "text/html": [
       "<div>\n",
       "<style scoped>\n",
       "    .dataframe tbody tr th:only-of-type {\n",
       "        vertical-align: middle;\n",
       "    }\n",
       "\n",
       "    .dataframe tbody tr th {\n",
       "        vertical-align: top;\n",
       "    }\n",
       "\n",
       "    .dataframe thead th {\n",
       "        text-align: right;\n",
       "    }\n",
       "</style>\n",
       "<table border=\"1\" class=\"dataframe\">\n",
       "  <thead>\n",
       "    <tr style=\"text-align: right;\">\n",
       "      <th></th>\n",
       "      <th>num_review</th>\n",
       "      <th>mean_overall_review</th>\n",
       "    </tr>\n",
       "    <tr>\n",
       "      <th>beer_beerId</th>\n",
       "      <th></th>\n",
       "      <th></th>\n",
       "    </tr>\n",
       "  </thead>\n",
       "  <tbody>\n",
       "    <tr>\n",
       "      <th>67283</th>\n",
       "      <td>1</td>\n",
       "      <td>5.0</td>\n",
       "    </tr>\n",
       "    <tr>\n",
       "      <th>11895</th>\n",
       "      <td>1</td>\n",
       "      <td>5.0</td>\n",
       "    </tr>\n",
       "    <tr>\n",
       "      <th>13222</th>\n",
       "      <td>1</td>\n",
       "      <td>5.0</td>\n",
       "    </tr>\n",
       "    <tr>\n",
       "      <th>62145</th>\n",
       "      <td>1</td>\n",
       "      <td>5.0</td>\n",
       "    </tr>\n",
       "    <tr>\n",
       "      <th>38766</th>\n",
       "      <td>1</td>\n",
       "      <td>5.0</td>\n",
       "    </tr>\n",
       "    <tr>\n",
       "      <th>...</th>\n",
       "      <td>...</td>\n",
       "      <td>...</td>\n",
       "    </tr>\n",
       "    <tr>\n",
       "      <th>70123</th>\n",
       "      <td>1</td>\n",
       "      <td>1.0</td>\n",
       "    </tr>\n",
       "    <tr>\n",
       "      <th>75032</th>\n",
       "      <td>1</td>\n",
       "      <td>1.0</td>\n",
       "    </tr>\n",
       "    <tr>\n",
       "      <th>75030</th>\n",
       "      <td>1</td>\n",
       "      <td>1.0</td>\n",
       "    </tr>\n",
       "    <tr>\n",
       "      <th>38505</th>\n",
       "      <td>1</td>\n",
       "      <td>1.0</td>\n",
       "    </tr>\n",
       "    <tr>\n",
       "      <th>29217</th>\n",
       "      <td>1</td>\n",
       "      <td>1.0</td>\n",
       "    </tr>\n",
       "  </tbody>\n",
       "</table>\n",
       "<p>14990 rows × 2 columns</p>\n",
       "</div>"
      ],
      "text/plain": [
       "             num_review  mean_overall_review\n",
       "beer_beerId                                 \n",
       "67283                 1                  5.0\n",
       "11895                 1                  5.0\n",
       "13222                 1                  5.0\n",
       "62145                 1                  5.0\n",
       "38766                 1                  5.0\n",
       "...                 ...                  ...\n",
       "70123                 1                  1.0\n",
       "75032                 1                  1.0\n",
       "75030                 1                  1.0\n",
       "38505                 1                  1.0\n",
       "29217                 1                  1.0\n",
       "\n",
       "[14990 rows x 2 columns]"
      ]
     },
     "execution_count": 43,
     "metadata": {},
     "output_type": "execute_result"
    }
   ],
   "source": [
    "df_4a"
   ]
  },
  {
   "cell_type": "code",
   "execution_count": 44,
   "metadata": {},
   "outputs": [
    {
     "data": {
      "text/html": [
       "<div>\n",
       "<style scoped>\n",
       "    .dataframe tbody tr th:only-of-type {\n",
       "        vertical-align: middle;\n",
       "    }\n",
       "\n",
       "    .dataframe tbody tr th {\n",
       "        vertical-align: top;\n",
       "    }\n",
       "\n",
       "    .dataframe thead th {\n",
       "        text-align: right;\n",
       "    }\n",
       "</style>\n",
       "<table border=\"1\" class=\"dataframe\">\n",
       "  <thead>\n",
       "    <tr style=\"text-align: right;\">\n",
       "      <th></th>\n",
       "      <th>num_review</th>\n",
       "      <th>mean_overall_review</th>\n",
       "    </tr>\n",
       "  </thead>\n",
       "  <tbody>\n",
       "    <tr>\n",
       "      <th>count</th>\n",
       "      <td>14990.000000</td>\n",
       "      <td>14990.000000</td>\n",
       "    </tr>\n",
       "    <tr>\n",
       "      <th>mean</th>\n",
       "      <td>33.602201</td>\n",
       "      <td>3.651688</td>\n",
       "    </tr>\n",
       "    <tr>\n",
       "      <th>std</th>\n",
       "      <td>140.888150</td>\n",
       "      <td>0.625075</td>\n",
       "    </tr>\n",
       "    <tr>\n",
       "      <th>min</th>\n",
       "      <td>1.000000</td>\n",
       "      <td>1.000000</td>\n",
       "    </tr>\n",
       "    <tr>\n",
       "      <th>25%</th>\n",
       "      <td>1.000000</td>\n",
       "      <td>3.400000</td>\n",
       "    </tr>\n",
       "    <tr>\n",
       "      <th>50%</th>\n",
       "      <td>3.000000</td>\n",
       "      <td>3.750000</td>\n",
       "    </tr>\n",
       "    <tr>\n",
       "      <th>75%</th>\n",
       "      <td>10.000000</td>\n",
       "      <td>4.000000</td>\n",
       "    </tr>\n",
       "    <tr>\n",
       "      <th>max</th>\n",
       "      <td>2928.000000</td>\n",
       "      <td>5.000000</td>\n",
       "    </tr>\n",
       "  </tbody>\n",
       "</table>\n",
       "</div>"
      ],
      "text/plain": [
       "         num_review  mean_overall_review\n",
       "count  14990.000000         14990.000000\n",
       "mean      33.602201             3.651688\n",
       "std      140.888150             0.625075\n",
       "min        1.000000             1.000000\n",
       "25%        1.000000             3.400000\n",
       "50%        3.000000             3.750000\n",
       "75%       10.000000             4.000000\n",
       "max     2928.000000             5.000000"
      ]
     },
     "execution_count": 44,
     "metadata": {},
     "output_type": "execute_result"
    }
   ],
   "source": [
    "df_4a.describe()"
   ]
  },
  {
   "cell_type": "code",
   "execution_count": 45,
   "metadata": {},
   "outputs": [
    {
     "data": {
      "image/png": "[encoded data removed]",
      "text/plain": [
       "<Figure size 720x504 with 1 Axes>"
      ]
     },
     "metadata": {
      "needs_background": "light"
     },
     "output_type": "display_data"
    }
   ],
   "source": [
    "_ = df_4a.hist(column=\"num_review\", bins=50, figsize=(10, 7))"
   ]
  },
  {
   "cell_type": "code",
   "execution_count": 46,
   "metadata": {},
   "outputs": [
    {
     "data": {
      "image/png": "[encoded data removed]",
      "text/plain": [
       "<Figure size 720x504 with 1 Axes>"
      ]
     },
     "metadata": {
      "needs_background": "light"
     },
     "output_type": "display_data"
    }
   ],
   "source": [
    "_ = df_4a[df_4a[\"num_review\"] > 200].hist(column=\"num_review\", bins=30, figsize=(10, 7))\n"
   ]
  },
  {
   "cell_type": "code",
   "execution_count": 47,
   "metadata": {},
   "outputs": [
    {
     "data": {
      "text/html": [
       "<div>\n",
       "<style scoped>\n",
       "    .dataframe tbody tr th:only-of-type {\n",
       "        vertical-align: middle;\n",
       "    }\n",
       "\n",
       "    .dataframe tbody tr th {\n",
       "        vertical-align: top;\n",
       "    }\n",
       "\n",
       "    .dataframe thead th {\n",
       "        text-align: right;\n",
       "    }\n",
       "</style>\n",
       "<table border=\"1\" class=\"dataframe\">\n",
       "  <thead>\n",
       "    <tr style=\"text-align: right;\">\n",
       "      <th></th>\n",
       "      <th>num_review</th>\n",
       "      <th>mean_overall_review</th>\n",
       "    </tr>\n",
       "    <tr>\n",
       "      <th>beer_beerId</th>\n",
       "      <th></th>\n",
       "      <th></th>\n",
       "    </tr>\n",
       "  </thead>\n",
       "  <tbody>\n",
       "    <tr>\n",
       "      <th>56082</th>\n",
       "      <td>246</td>\n",
       "      <td>4.630081</td>\n",
       "    </tr>\n",
       "    <tr>\n",
       "      <th>16814</th>\n",
       "      <td>443</td>\n",
       "      <td>4.623025</td>\n",
       "    </tr>\n",
       "    <tr>\n",
       "      <th>47658</th>\n",
       "      <td>618</td>\n",
       "      <td>4.597087</td>\n",
       "    </tr>\n",
       "    <tr>\n",
       "      <th>6368</th>\n",
       "      <td>627</td>\n",
       "      <td>4.491228</td>\n",
       "    </tr>\n",
       "    <tr>\n",
       "      <th>2899</th>\n",
       "      <td>281</td>\n",
       "      <td>4.437722</td>\n",
       "    </tr>\n",
       "  </tbody>\n",
       "</table>\n",
       "</div>"
      ],
      "text/plain": [
       "             num_review  mean_overall_review\n",
       "beer_beerId                                 \n",
       "56082               246             4.630081\n",
       "16814               443             4.623025\n",
       "47658               618             4.597087\n",
       "6368                627             4.491228\n",
       "2899                281             4.437722"
      ]
     },
     "execution_count": 47,
     "metadata": {},
     "output_type": "execute_result"
    }
   ],
   "source": [
    "df_4a[df_4a[\"num_review\"] > 200].head()\n"
   ]
  },
  {
   "cell_type": "code",
   "execution_count": 48,
   "metadata": {},
   "outputs": [
    {
     "data": {
      "text/html": [
       "<div>\n",
       "<style scoped>\n",
       "    .dataframe tbody tr th:only-of-type {\n",
       "        vertical-align: middle;\n",
       "    }\n",
       "\n",
       "    .dataframe tbody tr th {\n",
       "        vertical-align: top;\n",
       "    }\n",
       "\n",
       "    .dataframe thead th {\n",
       "        text-align: right;\n",
       "    }\n",
       "</style>\n",
       "<table border=\"1\" class=\"dataframe\">\n",
       "  <thead>\n",
       "    <tr style=\"text-align: right;\">\n",
       "      <th></th>\n",
       "      <th>beer_ABV</th>\n",
       "      <th>beer_beerId</th>\n",
       "      <th>beer_brewerId</th>\n",
       "      <th>beer_name</th>\n",
       "      <th>beer_style</th>\n",
       "      <th>review_appearance</th>\n",
       "      <th>review_palette</th>\n",
       "      <th>review_overall</th>\n",
       "      <th>review_taste</th>\n",
       "      <th>review_profileName</th>\n",
       "      <th>review_aroma</th>\n",
       "      <th>review_text</th>\n",
       "      <th>review_time</th>\n",
       "      <th>review_year</th>\n",
       "    </tr>\n",
       "  </thead>\n",
       "  <tbody>\n",
       "    <tr>\n",
       "      <th>335037</th>\n",
       "      <td>8.0</td>\n",
       "      <td>56082</td>\n",
       "      <td>14064</td>\n",
       "      <td>Citra DIPA</td>\n",
       "      <td>American Double / Imperial IPA</td>\n",
       "      <td>4.5</td>\n",
       "      <td>5.0</td>\n",
       "      <td>5.0</td>\n",
       "      <td>5.0</td>\n",
       "      <td>OTB</td>\n",
       "      <td>5.0</td>\n",
       "      <td>I was fortunate to get two fresh bottles this ...</td>\n",
       "      <td>1322876922</td>\n",
       "      <td>2011</td>\n",
       "    </tr>\n",
       "    <tr>\n",
       "      <th>378616</th>\n",
       "      <td>8.0</td>\n",
       "      <td>16814</td>\n",
       "      <td>27039</td>\n",
       "      <td>Heady Topper</td>\n",
       "      <td>American Double / Imperial IPA</td>\n",
       "      <td>4.0</td>\n",
       "      <td>5.0</td>\n",
       "      <td>5.0</td>\n",
       "      <td>5.0</td>\n",
       "      <td>icepik</td>\n",
       "      <td>5.0</td>\n",
       "      <td>A : Golden to amber color, large bubbles, some...</td>\n",
       "      <td>1325180700</td>\n",
       "      <td>2011</td>\n",
       "    </tr>\n",
       "    <tr>\n",
       "      <th>16698</th>\n",
       "      <td>10.6</td>\n",
       "      <td>47658</td>\n",
       "      <td>1199</td>\n",
       "      <td>Founders CBS Imperial Stout</td>\n",
       "      <td>American Double / Imperial Stout</td>\n",
       "      <td>4.5</td>\n",
       "      <td>4.5</td>\n",
       "      <td>5.0</td>\n",
       "      <td>5.0</td>\n",
       "      <td>treyrab</td>\n",
       "      <td>5.0</td>\n",
       "      <td>After hearing so much about this beer, a sixte...</td>\n",
       "      <td>1245635836</td>\n",
       "      <td>2009</td>\n",
       "    </tr>\n",
       "  </tbody>\n",
       "</table>\n",
       "</div>"
      ],
      "text/plain": [
       "        beer_ABV  beer_beerId  beer_brewerId                    beer_name  \\\n",
       "335037       8.0        56082          14064                   Citra DIPA   \n",
       "378616       8.0        16814          27039                 Heady Topper   \n",
       "16698       10.6        47658           1199  Founders CBS Imperial Stout   \n",
       "\n",
       "                              beer_style  review_appearance  review_palette  \\\n",
       "335037    American Double / Imperial IPA                4.5             5.0   \n",
       "378616    American Double / Imperial IPA                4.0             5.0   \n",
       "16698   American Double / Imperial Stout                4.5             4.5   \n",
       "\n",
       "        review_overall  review_taste review_profileName  review_aroma  \\\n",
       "335037             5.0           5.0                OTB           5.0   \n",
       "378616             5.0           5.0             icepik           5.0   \n",
       "16698              5.0           5.0            treyrab           5.0   \n",
       "\n",
       "                                              review_text  review_time  \\\n",
       "335037  I was fortunate to get two fresh bottles this ...   1322876922   \n",
       "378616  A : Golden to amber color, large bubbles, some...   1325180700   \n",
       "16698   After hearing so much about this beer, a sixte...   1245635836   \n",
       "\n",
       "        review_year  \n",
       "335037         2011  \n",
       "378616         2011  \n",
       "16698          2009  "
      ]
     },
     "execution_count": 48,
     "metadata": {},
     "output_type": "execute_result"
    }
   ],
   "source": [
    "df[(df[\"beer_beerId\"] == 56082) | (df[\"beer_beerId\"] == 47658) | (df[\"beer_beerId\"] == 16814)].drop_duplicates(\n",
    "    subset=\"beer_beerId\")\n"
   ]
  }
 ],
 "metadata": {
  "kernelspec": {
   "display_name": "base",
   "language": "python",
   "name": "python3"
  },
  "language_info": {
   "codemirror_mode": {
    "name": "ipython",
    "version": 3
   },
   "file_extension": ".py",
   "mimetype": "text/x-python",
   "name": "python",
   "nbconvert_exporter": "python",
   "pygments_lexer": "ipython3",
   "version": "3.9.7"
  },
  "orig_nbformat": 4
 },
 "nbformat": 4,
 "nbformat_minor": 2
}
